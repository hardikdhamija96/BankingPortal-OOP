{
  "nbformat": 4,
  "nbformat_minor": 0,
  "metadata": {
    "colab": {
      "provenance": [],
      "authorship_tag": "ABX9TyOxzcSVZr24a9wlV5Tyq+gZ",
      "include_colab_link": true
    },
    "kernelspec": {
      "name": "python3",
      "display_name": "Python 3"
    },
    "language_info": {
      "name": "python"
    }
  },
  "cells": [
    {
      "cell_type": "markdown",
      "metadata": {
        "id": "view-in-github",
        "colab_type": "text"
      },
      "source": [
        "<a href=\"https://colab.research.google.com/github/hardikdhamija96/BankingPortal-OOP/blob/master/05_exception_handling/02_Exception_Handling_QuestionSet1.ipynb\" target=\"_parent\"><img src=\"https://colab.research.google.com/assets/colab-badge.svg\" alt=\"Open In Colab\"/></a>"
      ]
    },
    {
      "cell_type": "markdown",
      "source": [
        "# 📘 02: Exception Handling – Question Set 1\n",
        "\n",
        "This notebook contains a curated set of **coding problems** and **multiple-choice questions (MCQs)** related to **exception handling in Python**.\n",
        "\n",
        "These questions are part of the **DSML course assignment** and are designed to help reinforce the core concepts of:\n",
        "\n",
        "- `try`, `except`, `finally`\n",
        "- Built-in exceptions\n",
        "- Custom exceptions\n",
        "- Nested handling\n",
        "- Output-based tricky MCQs\n",
        "\n",
        "---\n",
        "\n",
        "### 🧠 Who is this for?\n",
        "\n",
        "Anyone looking to:\n",
        "\n",
        "- Practice exception handling concepts\n",
        "- Revise before a test or module quiz\n",
        "- Build deeper understanding through output-based MCQs\n",
        "\n",
        "---\n",
        "\n",
        "### 🔧 Format\n",
        "\n",
        "- **🧪 Coding Questions**: Solve with explanations\n",
        "- **📚 MCQs**: Output/Concept-based with explanations\n",
        "\n",
        "---\n",
        "\n",
        "Let’s get started 👇"
      ],
      "metadata": {
        "id": "XODpeWeITk9l"
      }
    },
    {
      "cell_type": "markdown",
      "source": [
        "---\n",
        "\n",
        "## 📘 Q1. `except` and `finally`\n",
        "\n",
        "### 🧪 Problem:\n",
        "Is the following way of using `try`, `except`, and `finally` valid? What's the reason behind your answer?\n",
        "\n",
        "```python\n",
        "try:\n",
        "  print(a)\n",
        "except ValueError:\n",
        "  a = 3\n",
        "  print(a)\n",
        "except:\n",
        "  a = 5\n",
        "  print(a)\n",
        "finally:\n",
        "  a = 4\n",
        "  print(a)\n",
        "```\n",
        "\n",
        "#### Options:\n",
        " A. No, because try can't have multiple except statements\n",
        "\n",
        " B. No, because finally cannot be used with except\n",
        "\n",
        " C. Yes, because relative order of except and finally doesn't matter\n",
        "\n",
        " D. Yes, because except should be used before finally"
      ],
      "metadata": {
        "id": "UVFXqJEUVmAf"
      }
    },
    {
      "cell_type": "code",
      "execution_count": 1,
      "metadata": {
        "colab": {
          "base_uri": "https://localhost:8080/"
        },
        "id": "rgiVuupHSef0",
        "outputId": "229aac44-f571-4123-eb67-3103fa07e9ae"
      },
      "outputs": [
        {
          "output_type": "stream",
          "name": "stdout",
          "text": [
            "5\n",
            "4\n"
          ]
        }
      ],
      "source": [
        "try:\n",
        "  print(a)\n",
        "except ValueError:\n",
        "  a = 3\n",
        "  print(a)\n",
        "except:\n",
        "  a = 5\n",
        "  print(a)\n",
        "finally:\n",
        "  a = 4\n",
        "  print(a)"
      ]
    },
    {
      "cell_type": "markdown",
      "source": [
        "---\n",
        "\n",
        "### 🧠 Notes:\n",
        "\n",
        "- ✅ `finally` block **always runs**, whether an exception occurred or not — it is used for cleanup, closing files, etc.\n",
        "- ✅ `else` block runs **only when no exception occurs** in the `try` block.\n",
        "- ❌ If an exception **is raised and not caught**, then `else` is skipped, but `finally` will still run.\n",
        "\n",
        "---\n",
        "\n",
        "### 🔍 Exception Types:\n",
        "\n",
        "- `NameError`: Raised when we try to use a variable (`a`) that hasn’t been defined yet.\n",
        "- `ValueError`: Raised when a function receives an argument of the correct type but inappropriate value (e.g., `int(\"abc\")`).\n"
      ],
      "metadata": {
        "id": "gdtsHBiiW3k8"
      }
    },
    {
      "cell_type": "markdown",
      "source": [
        "---\n",
        "\n",
        "## 📘 Q2. Type of Error – Missing File\n",
        "\n",
        "### 🧪 Problem:\n",
        "Suppose `func(file_name)` is a function that takes a `.txt` file as an argument and prints the text in the file.\n",
        "\n",
        "Now, if the file goes **missing** from the referred location, then **what kind of exception will be raised?**\n",
        "\n",
        "---\n",
        "\n",
        "### 📝 Options:\n",
        "\n",
        "- [ ] A. ValueError  \n",
        "- [ ] B. TypeError  \n",
        "- [ ] C. ImportError  \n",
        "- [x] D. FileNotFoundError\n",
        "\n",
        "---\n",
        "\n",
        "### ✅ **Correct Answer**: D\n",
        "\n",
        "---\n",
        "\n",
        "### 💬 **Explanation**:\n",
        "- 📂 When Python tries to open a file that doesn't exist at the specified path, it raises a **`FileNotFoundError`**\n",
        "- This is a subclass of `OSError` and very common in file handling\n",
        "\n",
        "---\n",
        "\n"
      ],
      "metadata": {
        "id": "kS6WrzGTXYpC"
      }
    },
    {
      "cell_type": "markdown",
      "source": [
        "## 🧠 Common Python Exceptions (Cheat Sheet)\n",
        "\n",
        "| Error Type         | Raised When...                                                                 |\n",
        "|--------------------|--------------------------------------------------------------------------------|\n",
        "| **`ValueError`**    | A function gets the right type of argument, but an inappropriate **value**. <br>👉 `int(\"abc\")` |\n",
        "| **`TypeError`**     | An operation is applied to an object of an **inappropriate type**. <br>👉 `\"2\" + 5` |\n",
        "| **`NameError`**     | A variable is used before it has been **defined**. <br>👉 `print(x)` (if `x` is not defined) |\n",
        "| **`FileNotFoundError`** | You try to open/read a file that **doesn't exist** at the path. <br>👉 `open(\"abc.txt\")` |\n",
        "| **`ZeroDivisionError`** | Division by **zero** occurs. <br>👉 `5 / 0` |\n",
        "| **`IndexError`**    | Trying to access an index that’s **out of range**. <br>👉 `[1, 2][5]` |\n",
        "| **`KeyError`**      | Accessing a **non-existent key** in a dictionary. <br>👉 `my_dict[\"abc\"]` (if `\"abc\"` not in keys) |\n",
        "| **`AttributeError`**| You try to call or access an **attribute that doesn’t exist**. <br>👉 `\"hello\".push()` |\n",
        "| **`ImportError`**   | Python can’t **find or import** a module. <br>👉 `import non_existing_module` |\n",
        "| **`IndentationError`** | Your code is **not properly indented**. <br>👉 Missing spaces/tabs where expected |\n",
        "| **`SyntaxError`**   | Python code has **invalid syntax**. <br>👉 `if True print(\"hi\")` |\n",
        "\n",
        "---\n",
        "\n",
        "🧠 **Tip to Remember**:\n",
        "- `ValueError` = wrong value  \n",
        "- `TypeError` = wrong type  \n",
        "- `NameError` = undefined variable  \n",
        "- `FileNotFoundError` = file missing\n",
        "\n",
        "---\n",
        "\n",
        "✅ Exception hierarchy matters too:\n",
        "- `FileNotFoundError` is a subclass of `OSError`\n",
        "- All errors inherit from `BaseException`\n",
        "\n",
        "---"
      ],
      "metadata": {
        "id": "LXsMxhGVXqXt"
      }
    },
    {
      "cell_type": "markdown",
      "source": [
        "## 📘 Q3. Percentile and Quantile Calculator (with Exception Handling)\n",
        "\n",
        "### 🧪 Problem:\n",
        "\n",
        "Build a calculator function `calc(a, b, c)` that:\n",
        "\n",
        "1. Takes three inputs:\n",
        "   - `a`: A list of numbers  \n",
        "   - `b`: A string – either `\"Percentile\"` or `\"Quantile\"`  \n",
        "   - `c`: A number (the percentile or quantile value)\n",
        "2. Performs the following:\n",
        "   - If the list is empty → raise `Exception(\"Null value passed\")`\n",
        "   - If formula is **anything other than** `\"Percentile\"` or `\"Quantile\"` → raise `Exception(\"Formula Error: Wrong Formula\")`\n",
        "   - Otherwise, use NumPy to return the appropriate value using:\n",
        "     - `np.percentile()` or `np.quantile()`\n",
        "\n",
        "---\n",
        "\n",
        "### 📥 Sample Input:\n",
        "\n",
        "```python\n",
        "a = [1, 2, 3, 4, 5, 6, 7]\n",
        "b = \"Percentile\"\n",
        "c = 25\n",
        "```\n",
        "\n",
        "📤 Expected Output:\n",
        "2.5\n",
        "\n"
      ],
      "metadata": {
        "id": "MljMrHpDYZdN"
      }
    },
    {
      "cell_type": "code",
      "source": [
        "import numpy as np\n",
        "\n",
        "def calc(a,b,c):\n",
        "  try:\n",
        "    if len(a) == 0:\n",
        "      raise Exception(\"Null value passed\")\n",
        "    elif b!= \"Percentile\" and b!=\"Quantile\":\n",
        "      raise Exception(\"Formula Error: Wrong Formula\")\n",
        "  except Exception as e:\n",
        "    print(e)\n",
        "  else:\n",
        "    if b == \"Percentile\":\n",
        "      return np.percentile(a,c)\n",
        "    else:\n",
        "      return np.quantile(a,c)"
      ],
      "metadata": {
        "id": "ZZBu04TaWAXt"
      },
      "execution_count": 2,
      "outputs": []
    },
    {
      "cell_type": "code",
      "source": [
        "print(calc([1, 2, 3, 4, 5], \"Percentile\", 25))  # ➤ 2.0\n",
        "print(calc([], \"Percentile\", 25))              # ➤ Null value passed\n",
        "print(calc([1, 2, 3], \"Average\", 50))          # ➤ Formula Error: Wrong Formula"
      ],
      "metadata": {
        "colab": {
          "base_uri": "https://localhost:8080/"
        },
        "id": "VmI2yPkOahqz",
        "outputId": "871822be-fab9-480e-bf8e-7299f8dfde53"
      },
      "execution_count": 3,
      "outputs": [
        {
          "output_type": "stream",
          "name": "stdout",
          "text": [
            "2.0\n",
            "Null value passed\n",
            "None\n",
            "Formula Error: Wrong Formula\n",
            "None\n"
          ]
        }
      ]
    },
    {
      "cell_type": "markdown",
      "source": [
        "---\n",
        "\n",
        "## 📘 Q4. Exception in Python – Custom Exception Class\n",
        "\n",
        "### 🧪 Problem:\n",
        "\n",
        "Observe the code:\n",
        "\n",
        "```python\n",
        "class MyError(Exception):\n",
        "    def __init__(self, value):\n",
        "        self.value = value\n",
        "\n",
        "    def __str__(self):\n",
        "        return(repr(self.value))\n",
        "\n",
        "try:\n",
        "    raise(MyError(3*2))\n",
        "\n",
        "except MyError as error:\n",
        "    print('A New Exception occurred:', error.value)\n",
        "```\n",
        "\n",
        "Question:\n",
        "The above code is an example of Exceptions in Python.\n",
        "What is an Exception in Python?\n",
        "\n",
        "#### Options:\n",
        " A. class\n",
        "\n",
        " B. special method\n",
        "\n",
        " C. standard module\n",
        "\n",
        " D. package\n",
        "\n",
        "---\n",
        "\n",
        "#### ✅ Correct Answer: A. class\n",
        "\n",
        "---\n",
        "#### 💬 Explanation:\n",
        "- In Python, exceptions are implemented as classes\n",
        "\n",
        "- All exceptions inherit from the BaseException class\n",
        "\n",
        "- You can create custom exceptions by subclassing Exception, as shown in the code\n",
        "\n",
        "- This makes exception handling extensible and object-oriented in Python.\n"
      ],
      "metadata": {
        "id": "cEOTxzUybOpz"
      }
    },
    {
      "cell_type": "markdown",
      "source": [
        "---\n",
        "\n",
        "## 📘 Q5. Salary Range Checker – Custom Exception\n",
        "\n",
        "### 🧪 Problem:\n",
        "\n",
        "Design a function `check_salary()` that takes salary as an argument and raises a custom exception `SalaryNotInRangeError` if the salary is **not in range (10000, 100000)**.  \n",
        "(Both 10000 and 100000 are **exclusive**)\n",
        "\n",
        "---\n",
        "\n",
        "### ✅ Requirements:\n",
        "\n",
        "- Raise: `SalaryNotInRangeError(\"Salary is not in range\")`\n",
        "- Output:\n",
        "  - `\"Salary is not in range\"` → if salary is outside the range\n",
        "  - `\"Congratulations!!\"` → if salary is valid\n",
        "\n",
        "---\n",
        "\n",
        "### 🧾 Sample Inputs & Outputs:\n",
        "\n",
        "| Input   | Output                    |\n",
        "|---------|---------------------------|\n",
        "| `5000`  | `\"Salary is not in range\"` |\n",
        "| `25000` | `\"Congratulations!!\"`      |\n",
        "\n",
        "---"
      ],
      "metadata": {
        "id": "RFBMT_RacOzz"
      }
    },
    {
      "cell_type": "code",
      "source": [
        "class SalaryNotInRangeError(Exception):\n",
        "    \"\"\"\n",
        "    Exception raised for errors in the input salary.\n",
        "    Attributes:\n",
        "        message -- explain the exception\n",
        "    \"\"\"\n",
        "    def __str__(self):\n",
        "      return \"Salary is not in range\"\n",
        "\n",
        "def check_salary(salary):\n",
        "  try:\n",
        "    if (salary>=100000 or salary<=10000):\n",
        "      raise SalaryNotInRangeError() #no need to pass message, handelled in class\n",
        "    else:\n",
        "      print(\"Congratulations!!\")\n",
        "\n",
        "  except SalaryNotInRangeError as e:\n",
        "    print(e)"
      ],
      "metadata": {
        "id": "I1hsx3G3anrq"
      },
      "execution_count": 4,
      "outputs": []
    },
    {
      "cell_type": "code",
      "source": [
        "check_salary(5000)      # ➤ Salary is not in range\n",
        "check_salary(25000)     # ➤ Congratulations!!\n",
        "check_salary(100000)    # ➤ Salary is not in range"
      ],
      "metadata": {
        "colab": {
          "base_uri": "https://localhost:8080/"
        },
        "id": "hSB0gbYodfSi",
        "outputId": "3c6866da-ba5c-4b92-d65c-10d1e5c78181"
      },
      "execution_count": 5,
      "outputs": [
        {
          "output_type": "stream",
          "name": "stdout",
          "text": [
            "Salary is not in range\n",
            "Congratulations!!\n",
            "Salary is not in range\n"
          ]
        }
      ]
    },
    {
      "cell_type": "markdown",
      "source": [
        "---\n",
        "\n",
        "## 📘 Q6. \"Good\" or \"Invalid\" – Input + Try + While\n",
        "\n",
        "### 🧪 Code:\n",
        "\n",
        "```python\n",
        "try:\n",
        "    n = int(input(\"Enter a number\"))\n",
        "    while 100 % n == 0:\n",
        "        print(\"Good\")\n",
        "except ValueError:\n",
        "    print(\"Invalid\")\n",
        "```\n",
        "Question:\n",
        "Given the following inputs, what will be the output in each case?\n",
        "\n",
        "a. 4\n",
        "\n",
        "b. 1.5\n",
        "\n",
        "c. 3\n",
        "\n",
        "---\n",
        "#### Options:\n",
        " A. a prints “Good”, b prints nothing, c prints nothing\n",
        "\n",
        " B. a prints “Good” finite times, b prints “Good”, c prints nothing\n",
        "\n",
        " C. a prints “Good” infinite times, b prints “Invalid”, c prints nothing\n",
        "\n",
        " D. a prints “Good”, b prints “Good”, c prints “Invalid”\n",
        "\n",
        "---\n",
        "\n",
        "✅ Correct Answer: C\n",
        "\n",
        "---\n",
        "\n",
        "#### 💬 Explanation:\n",
        "\n",
        "Input a = 4\n",
        "\n",
        "→ int(4) = 4\n",
        "\n",
        "→ 100 % 4 == 0 is True\n",
        "\n",
        "→ Infinite loop: prints Good forever\n",
        "\n",
        "---\n",
        "\n",
        "Input b = 1.5\n",
        "\n",
        "→ int(1.5) raises ValueError because \"1.5\" is not a valid integer string\n",
        "\n",
        "→ Caught → prints \"Invalid\"\n",
        "\n",
        "---\n",
        "\n",
        "Input c = 3\n",
        "\n",
        "→ int(3) = 3\n",
        "\n",
        "→ 100 % 3 == 1 is False\n",
        "\n",
        "→ Loop never runs → prints nothing\n",
        "\n",
        "---\n",
        "\n",
        "#### 🧠 Key Concept:\n",
        "- int() raises ValueError if input is not a valid integer string (e.g. \"1.5\")\n",
        "\n",
        "- while loops run until condition is false, so if 100 % n == 0 is always true → infinite loop\n"
      ],
      "metadata": {
        "id": "hjmHa0LhvvjD"
      }
    },
    {
      "cell_type": "code",
      "source": [
        "try:\n",
        "    n = int(input(\"Enter a number:\"))\n",
        "    while 100 % n == 0:\n",
        "        print(\"Good\")\n",
        "except ValueError:\n",
        "    print(\"Invalid\")\n",
        "\n",
        "# Enter -> 4,1.5,3 one by one to see output"
      ],
      "metadata": {
        "colab": {
          "base_uri": "https://localhost:8080/"
        },
        "id": "1bCBcx3tw7hZ",
        "outputId": "74d718bb-d438-4e44-c18a-36b90cbdb6b1"
      },
      "execution_count": 10,
      "outputs": [
        {
          "output_type": "stream",
          "name": "stdout",
          "text": [
            "Enter a number:1.5\n",
            "Invalid\n"
          ]
        }
      ]
    },
    {
      "cell_type": "markdown",
      "source": [
        "---\n",
        "\n",
        "## 📘 Q7. What Will `finally` Return?\n",
        "\n",
        "### 🧪 Code:\n",
        "\n",
        "```python\n",
        "def even(x):\n",
        "    try:\n",
        "        if x % 2 == 0:\n",
        "            return \"even\"\n",
        "        else:\n",
        "            raise Exception\n",
        "    except:\n",
        "        return \"odd\"\n",
        "    finally:\n",
        "        return \"integer\"\n",
        "\n",
        "print(even(5))    # A\n",
        "print(even(4))    # B\n",
        "```\n",
        "#### Question:\n",
        "What will be printed by statements #A and #B?\n",
        "\n",
        "\n",
        "#### Options:\n",
        " A. A will print “integer”, B will print “even”\n",
        "\n",
        " B. A will print “integer”, B will print “integer”\n",
        "\n",
        " C. A will give \"odd\", B will print “even”\n",
        "\n",
        " D. A will give \"odd\", B will print “integer”\n",
        "\n",
        "---\n",
        "\n",
        "✅ Correct Answer: B\n",
        "\n",
        "---\n",
        "\n",
        "#### 💬 Explanation:\n",
        "- try returns \"even\" or \"odd\" based on logic\n",
        "\n",
        "- But finally block always runs and if it has a return, it overrides all other returns\n",
        "\n",
        "---\n",
        "\n",
        "#### 🧪 Step-by-step:\n",
        "\n",
        "Case A: even(5)\n",
        "\n",
        "5 is odd → raises exception\n",
        "\n",
        "Caught in except → return \"odd\"\n",
        "\n",
        "But finally: return \"integer\" overrides → output: \"integer\"\n",
        "\n",
        "Case B: even(4)\n",
        "\n",
        "4 is even → return \"even\"\n",
        "\n",
        "But finally: return \"integer\" overrides → output: \"integer\"\n",
        "\n",
        "---\n",
        "\n",
        "#### 🧠 Key Concept:\n",
        "If both try/except and finally have return statements, finally’s return takes precedence.\n",
        "\n"
      ],
      "metadata": {
        "id": "gopwk9CQxYoK"
      }
    },
    {
      "cell_type": "code",
      "source": [
        "def test():\n",
        "    try:\n",
        "        return \"first\"\n",
        "    finally:\n",
        "        return \"second\"\n",
        "print(test())\n",
        "\n",
        "#⭐finally statement always preceeds"
      ],
      "metadata": {
        "colab": {
          "base_uri": "https://localhost:8080/"
        },
        "id": "vydplPFQdgGa",
        "outputId": "357fdaf4-223d-477d-af1c-432abf070dbc"
      },
      "execution_count": 6,
      "outputs": [
        {
          "output_type": "stream",
          "name": "stdout",
          "text": [
            "second\n"
          ]
        }
      ]
    },
    {
      "cell_type": "code",
      "source": [
        "def even(x):\n",
        "  try:\n",
        "    if x%2==0:\n",
        "      return \"even\"\n",
        "    else:\n",
        "      raise Exception\n",
        "  except:\n",
        "    return(\"odd\")\n",
        "  finally:\n",
        "    return \"integer\"\n",
        "\n",
        "print(even(5))    #A\n",
        "print(even(4))    #B"
      ],
      "metadata": {
        "colab": {
          "base_uri": "https://localhost:8080/"
        },
        "id": "BmEHqn-JuI44",
        "outputId": "1bf28bce-ecf6-4146-86ab-00427a0a1795"
      },
      "execution_count": 7,
      "outputs": [
        {
          "output_type": "stream",
          "name": "stdout",
          "text": [
            "integer\n",
            "integer\n"
          ]
        }
      ]
    },
    {
      "cell_type": "markdown",
      "source": [
        "---\n",
        "\n",
        "## 📘 Q8. Raising Exception Based on Name Length\n",
        "\n",
        "### 🧪 Code:\n",
        "\n",
        "```python\n",
        "try:\n",
        "    name = input(\"Enter your name: \")\n",
        "    if len(name) < 5:\n",
        "        raise Exception(\"Name cannot have less than 5 characters\")\n",
        "    elif len(name) == 5:\n",
        "        raise Exception(\"Name should have more than 5 characters\")\n",
        "\n",
        "except Exception as e:\n",
        "    print(\"Error occured:\", e)\n",
        "```\n",
        "\n",
        "#### ❓ Match the inputs with their respective outputs:\n",
        "\n",
        "### 🔁 Input-Output Match Table\n",
        "\n",
        "| Input (P/Q/R) | Value     | Output (A/B/C) | Description                                           |\n",
        "|---------------|-----------|----------------|-------------------------------------------------------|\n",
        "| P             | \"John\"    | A              | Error: Name cannot have less than 5 characters        |\n",
        "| Q             | \"David\"   | B              | Error: Name should have more than 5 characters        |\n",
        "| R             | \"Hardik\"  | C              | ✅ No error – passes both conditions                   |\n",
        "\n",
        "---\n",
        "\n",
        "#### 📝 Options:\n",
        " A. P-A, Q-B, R-C\n",
        "\n",
        " B. P-B, Q-A, R-C\n",
        "\n",
        " C. P-C, Q-B, R-A\n",
        "\n",
        " D. P-B, Q-C, R-A\n",
        "\n",
        "---\n",
        "\n",
        "✅ Correct Answer: C. P-C, Q-B, R-A\n",
        "\n",
        "---\n",
        "\n",
        "#### 💬 Explanation:\n",
        "P = \"John\" → Length = 4 → `< 5` → raises: `\"Name cannot have less than 5 characters\"` → ✅ R-A\n",
        "\n",
        "Q = \"David\" → Length = 5 → exactly 5 → raises: `\"Name should have more than 5 characters\"` → ✅ Q-B\n",
        "\n",
        "R = \"Hardik\" → Length = 6 → passes both checks → no exception → ✅ P-C\n",
        "\n",
        "---\n",
        "\n",
        "🧠 Bonus Note:\n",
        "\n",
        "- raise Exception(\"msg\") is used to manually trigger custom error logic.\n",
        "\n",
        "- Use len(string) to validate input and throw domain-specific errors.\n",
        "\n"
      ],
      "metadata": {
        "id": "PxA7S0fZy8B8"
      }
    },
    {
      "cell_type": "code",
      "source": [
        "try:\n",
        "    name = input(\"Enter your name: \")\n",
        "    if len(name) < 5:\n",
        "        raise Exception(\"Name cannot have less than 5 characters\")\n",
        "    elif len(name) == 5:\n",
        "        raise Exception(\"Name should have more than 5 characters\")\n",
        "\n",
        "except Exception as e:\n",
        "    print(\"Error occured:\", e)\n",
        "\n",
        "# Enter: John, David, Hardik (one by one)"
      ],
      "metadata": {
        "colab": {
          "base_uri": "https://localhost:8080/"
        },
        "id": "g-DzZeT5uWTP",
        "outputId": "2884db94-f4c1-4b3f-b9bb-15027fa2e9cb"
      },
      "execution_count": 13,
      "outputs": [
        {
          "name": "stdout",
          "output_type": "stream",
          "text": [
            "Enter your name: Hardik\n"
          ]
        }
      ]
    },
    {
      "cell_type": "code",
      "source": [],
      "metadata": {
        "id": "h1JleJnA0HXi"
      },
      "execution_count": 13,
      "outputs": []
    }
  ]
}